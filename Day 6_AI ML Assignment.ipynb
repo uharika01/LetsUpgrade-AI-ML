{
 "cells": [
  {
   "cell_type": "code",
   "execution_count": 14,
   "metadata": {},
   "outputs": [
    {
     "name": "stdout",
     "output_type": "stream",
     "text": [
      "Input:\n",
      "abcxyz123@google.com\n",
      "Output:\n",
      "google\n"
     ]
    }
   ],
   "source": [
    "#1. Assuming that we have some email addresses in the \"username@companyname.com\" format, please write program\n",
    "#to print the company name of a given email address. Both user names and company names are composed of letters\n",
    "#only.\n",
    "\n",
    "s=input(\"Input:\\n\")\n",
    "print(\"Output:\")\n",
    "print(s.split(\"@\")[1].split(\".\")[0])\n"
   ]
  },
  {
   "cell_type": "code",
   "execution_count": 17,
   "metadata": {},
   "outputs": [
    {
     "name": "stdout",
     "output_type": "stream",
     "text": [
      "Input:\n",
      "without,hello,bag,world\n",
      "Output:\n",
      "bag,hello,without,world\n"
     ]
    }
   ],
   "source": [
    "#2. Write a program that accepts a comma-separated sequence of words as input and prints the words in a comma\n",
    "#separated sequence after sorting them alphabetically.\n",
    "\n",
    "items = input(\"Input:\\n\")\n",
    "words = [word for word in items.split(\",\")]\n",
    "print(\"Output:\")\n",
    "print(\",\".join(sorted(list(set(words)))))"
   ]
  },
  {
   "cell_type": "markdown",
   "metadata": {},
   "source": [
    "3. Sets in Python:\n",
    "Sets in python are collection of elements which are unordered and unindexed and these are denoted in curly braces.\n",
    "Ex: set1 = {\"physics\", \"maths\", \"chemistry\",\"english\"}\n",
    "    print(set1)\n",
    "    \n",
    "   Output: {'chemistry', 'english', 'physics', 'maths'}\n",
    "   \n",
    "     (i) As sets are unordered, you cannot be sure in which order the items will appear.\n",
    "     \n",
    "     (ii) Since sets are unordered the items have no index, so you cannot access items in a set by referring to an index.\n",
    "     \n",
    "     (iii) But you can loop through the set items using a for loop, or ask if a specified value is present in a set, by using             the in keyword.\n",
    "     Ex: set2 = {\"physics\", \"maths\", \"chemistry\",\"english\"}\n",
    "         print(\"maths\" in set2)\n",
    "     Output: True   \n",
    "     \n",
    "     (iv) <b>add() method:</b>\n",
    "     Once a set is created, as it is unordered, you cannot change the order, but you can add a new item using add() method\n",
    "     Ex: set3={\"physics\", \"maths\", \"chemistry\",\"english\"}\n",
    "         set3.add(\"social\")\n",
    "         print(set3)\n",
    "     Output: {\"physics\", \"maths\", \"chemistry\",\"english\", \"social\"}  \n",
    "     \n",
    "     (v) You can fnd the length of the set using len() method.\n",
    "     Ex: set4={\"physics\", \"maths\", \"chemistry\",\"english\"}\n",
    "         print(len(set4))\n",
    "     Output: 4\n",
    "     \n",
    "     (vi) You can clear the items in the set using clear() method.\n",
    "     Ex: set5={\"physics\", \"maths\", \"chemistry\",\"english\"}\n",
    "         set5.clear()\n",
    "         print(set5)\n",
    "     Output: set()\n",
    "     \n",
    "     (vii) Deleting the set:\n",
    "     This method will deleet the set completely/\n",
    "     Ex: set6 = {\"physics\", \"maths\", \"chemistry\",\"english\"}\n",
    "         del set6\n",
    "     Output: Error will occur as the set no longer exists\n",
    "     \n",
    "     (viii) Join two sets using union() method:\n",
    "     You can join two sets using union()\n",
    "     Ex: set1 = {\"a\", \"b\" , \"c\"}\n",
    "         set2 = {1, 2, 3}\n",
    "         set3 = set1.union(set2)\n",
    "         print(set3)\n",
    "     Output: {2, 3, 'b', 1, 'c', 'a'}\n",
    "     \n",
    "     (ix) Updating a set: The update() method inserts the items in set2 into set1.\n",
    "     Ex: set1 = {\"a\", \"b\" , \"c\"}\n",
    "         set2 = {1, 2, 3}\n",
    "         set1.update(set2)\n",
    "         print(set1)\n",
    "     Output: {2, 1, 'a', 'c', 'b', 3}\n",
    "     \n",
    "     Note: Both union() and update() will exclude any duplicate items.\n",
    "\n",
    "     (x) Set() constructor: It is also possible to use the set() constructor to make a set.\n",
    "     Ex: set7 = set((\"physics\", \"maths\", \"chemistry\",\"english\"))\n",
    "         print(set7)\n",
    "     Output: {\"physics\", \"maths\", \"chemistry\",\"english\"}\n",
    "     \n",
    "     (xi) remove() method: You can remove an item from the set using remove() method:\n",
    "     Ex: set8={\"physics\", \"maths\", \"chemistry\",\"english\"}\n",
    "         set8.remove(\"maths\")\n",
    "     Output: {\"physics\",\"chemistry\",\"english\"}\n",
    "     \n",
    "     (xii) discard() method: You can also remove an item from the set using discard() method.\n",
    "     Ex: set9={\"physics\", \"maths\", \"chemistry\",\"english\"}\n",
    "         set9.discard(\"maths\")\n",
    "     Output: {\"physics\",\"chemistry\",\"english\"}\n",
    "     \n",
    "     NOTE: If the item specified is not present in remove() method, an error will occur, but in case of discard() method,\n",
    "           there will be no error, instead, the existing set will be the output.\n",
    "           \n",
    "     (xiii) pop() method: You can also remove an item from the set using pop() method. But pop() will remove the last item from             the set.\n",
    "     Ex: set10={\"physics\", \"maths\", \"chemistry\",\"english\"}\n",
    "         newset=set10.pop()\n",
    "         print(newset)  #output will be the removed item\n",
    "         print(set10)   #output will be the set after removing the last item\n",
    "     Output: english\n",
    "             {\"physics\",\"chemistry\",\"english\"}\n",
    "             \n",
    "     NOTE: As set is unordered, last itrm might be changed when using pop() method.\n",
    "     \n",
    "     "
   ]
  },
  {
   "cell_type": "code",
   "execution_count": 21,
   "metadata": {},
   "outputs": [
    {
     "name": "stdout",
     "output_type": "stream",
     "text": [
      "3.0\n"
     ]
    }
   ],
   "source": [
    "def getMissingNo(A): \n",
    "    n = len(A) \n",
    "    total = (n + 1)*(n + 2)/2\n",
    "    sum_of_A = sum(A) \n",
    "    return total - sum_of_A \n",
    "  \n",
    "A = [1, 2, 4, 5, 6] \n",
    "miss = getMissingNo(A) \n",
    "print(miss) "
   ]
  },
  {
   "cell_type": "code",
   "execution_count": 25,
   "metadata": {},
   "outputs": [
    {
     "name": "stdout",
     "output_type": "stream",
     "text": [
      "Output:\n",
      " [10, 20, 3, 5, 6, 1]\n"
     ]
    }
   ],
   "source": [
    "test_list = [10, 20, 3, 5, 6, 3, 5, 6, 1] \n",
    "res = [] \n",
    "for i in test_list: \n",
    "    if i not in res: \n",
    "        res.append(i) \n",
    "print (\"Output:\\n \" + str(res))"
   ]
  },
  {
   "cell_type": "code",
   "execution_count": null,
   "metadata": {},
   "outputs": [],
   "source": []
  }
 ],
 "metadata": {
  "kernelspec": {
   "display_name": "Python 3",
   "language": "python",
   "name": "python3"
  },
  "language_info": {
   "codemirror_mode": {
    "name": "ipython",
    "version": 3
   },
   "file_extension": ".py",
   "mimetype": "text/x-python",
   "name": "python",
   "nbconvert_exporter": "python",
   "pygments_lexer": "ipython3",
   "version": "3.7.6"
  }
 },
 "nbformat": 4,
 "nbformat_minor": 4
}
