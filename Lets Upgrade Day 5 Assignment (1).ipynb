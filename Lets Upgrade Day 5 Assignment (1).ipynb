{
 "cells": [
  {
   "cell_type": "code",
   "execution_count": 8,
   "metadata": {},
   "outputs": [
    {
     "name": "stdout",
     "output_type": "stream",
     "text": [
      "Enter the number : 20\n",
      "3\n",
      "5\n",
      "7\n",
      "11\n",
      "13\n",
      "17\n",
      "19\n"
     ]
    }
   ],
   "source": [
    "n=int(input(\"Enter the number : \"))\n",
    "\n",
    "for i in range(3,n):\n",
    "    p=i\n",
    "    k=0\n",
    "    for j in range(2,p-1):\n",
    "        if(p%j==0):\n",
    "            k=k+1\n",
    "    if(k==0):\n",
    "        print(p)"
   ]
  },
  {
   "cell_type": "code",
   "execution_count": 35,
   "metadata": {},
   "outputs": [
    {
     "name": "stdout",
     "output_type": "stream",
     "text": [
      "Lets upgrade day 5 assignment\n",
      "lets upgrade day 5 assignment\n",
      "000000000000000000000Lets Upgrade Day 5 Assignment\n",
      "                         Lets Upgrade Day 5 Assignment                          \n",
      "2\n",
      "b'Lets Upgrade Day 5 Assignment'\n",
      "7\n",
      "False\n",
      "False\n",
      "lets upgrade day 5 assignment\n",
      "LETS UPGRADE DAY 5 ASSIGNMENT\n",
      "['Lets', 'Upgrade', 'Day', '5', 'Assignment']\n",
      "Lets Upgrade Day 5 Assignment\n",
      "5\n",
      "Lets learn Day 5 Assignment\n"
     ]
    }
   ],
   "source": [
    "text=\"Lets Upgrade Day 5 Assignment\"\n",
    "x = text.capitalize() #upper case first letter\n",
    "print (x)\n",
    "\n",
    "y=text.casefold() #lower case first letter\n",
    "print(y)\n",
    "\n",
    "a = text.zfill(50) #appends zeros in the beginning of the text\n",
    "print(a)\n",
    "\n",
    "b = text.center(80) #Returns a centered string\n",
    "print(b)\n",
    "\n",
    "c = text.count(\"a\") #Returns the number of times a specified value occurs in a string\n",
    "print(c)\n",
    "\n",
    "d = text.encode() #returns encoded version of the given string\n",
    "print(d)\n",
    "\n",
    "e = text.find(\"g\") #finds the position of the given string and displays the specified number\n",
    "print(e)\n",
    "\n",
    "h=text.islower()#Checks if all letters are lowercase\n",
    "print(h)\n",
    "\n",
    "i=text.isdigit()#Check if all the characters in the text are digits:\n",
    "print(i)\n",
    "\n",
    "j=text.lower()#Converts a string into lower case\n",
    "print(j)\n",
    "\n",
    "k=text.upper()#Converts a string into upper case\n",
    "print(k)\n",
    "\n",
    "l=text.split()#Split a string into a list where each word is a list item:\n",
    "print(l)\n",
    "\n",
    "m=text.title()#Check if each word start with an upper case letter:\n",
    "print(m)\n",
    "\n",
    "n = text.index(\"Upgrade\") #Searches the string for a specified value and returns the position of where it was found\n",
    "print(n)\n",
    "\n",
    "o = text.replace(\"Upgrade\", \"learn\") #Returns a string where a specified value is replaced with a specified value\n",
    "print(o)\n"
   ]
  },
  {
   "cell_type": "code",
   "execution_count": 2,
   "metadata": {},
   "outputs": [
    {
     "name": "stdout",
     "output_type": "stream",
     "text": [
      "Enter the string : Harika\n",
      "Entered string is an Anagram\n"
     ]
    }
   ],
   "source": [
    "def isPalindrome(s): \n",
    "    return s == s[::-1] \n",
    "s = input(\"Enter the string : \") \n",
    "ans = isPalindrome(s) \n",
    "  \n",
    "if ans: \n",
    "    print(\"Entered string is a Palindrome\") \n",
    "else: \n",
    "    print(\"Entered string is an Anagram\")"
   ]
  },
  {
   "cell_type": "code",
   "execution_count": 1,
   "metadata": {},
   "outputs": [
    {
     "name": "stdout",
     "output_type": "stream",
     "text": [
      "drdarshaningleaimltrainer\n"
     ]
    }
   ],
   "source": [
    "s = \"Dr. Darshan Ingle@AI-ML Trainer\"\n",
    "for c in \".!@#%&*()[]{}-/ ?<>\":\n",
    "    s = str.replace(s, c, \"\")\n",
    "print (s.lower())"
   ]
  },
  {
   "cell_type": "code",
   "execution_count": null,
   "metadata": {},
   "outputs": [],
   "source": []
  }
 ],
 "metadata": {
  "kernelspec": {
   "display_name": "Python 3",
   "language": "python",
   "name": "python3"
  },
  "language_info": {
   "codemirror_mode": {
    "name": "ipython",
    "version": 3
   },
   "file_extension": ".py",
   "mimetype": "text/x-python",
   "name": "python",
   "nbconvert_exporter": "python",
   "pygments_lexer": "ipython3",
   "version": "3.7.6"
  }
 },
 "nbformat": 4,
 "nbformat_minor": 4
}
