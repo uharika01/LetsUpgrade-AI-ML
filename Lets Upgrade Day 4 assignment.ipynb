{
 "cells": [
  {
   "cell_type": "code",
   "execution_count": 2,
   "metadata": {},
   "outputs": [
    {
     "name": "stdout",
     "output_type": "stream",
     "text": [
      "Addtion is :  (3+5j)\n",
      "Subtraction is :  (1+1j)\n",
      "Multipilication is :  (-4+7j)\n",
      "Division is :  (1.6-0.2j)\n"
     ]
    },
    {
     "ename": "TypeError",
     "evalue": "can't take floor of complex number.",
     "output_type": "error",
     "traceback": [
      "\u001b[1;31m---------------------------------------------------------------------------\u001b[0m",
      "\u001b[1;31mTypeError\u001b[0m                                 Traceback (most recent call last)",
      "\u001b[1;32m<ipython-input-2-0328262455b2>\u001b[0m in \u001b[0;36m<module>\u001b[1;34m\u001b[0m\n\u001b[0;32m      5\u001b[0m \u001b[0mprint\u001b[0m\u001b[1;33m(\u001b[0m\u001b[1;34m\"Multipilication is : \"\u001b[0m\u001b[1;33m,\u001b[0m\u001b[1;33m(\u001b[0m\u001b[0mz1\u001b[0m\u001b[1;33m*\u001b[0m\u001b[0mz2\u001b[0m\u001b[1;33m)\u001b[0m\u001b[1;33m)\u001b[0m\u001b[1;33m\u001b[0m\u001b[1;33m\u001b[0m\u001b[0m\n\u001b[0;32m      6\u001b[0m \u001b[0mprint\u001b[0m\u001b[1;33m(\u001b[0m\u001b[1;34m\"Division is : \"\u001b[0m\u001b[1;33m,\u001b[0m\u001b[1;33m(\u001b[0m\u001b[0mz1\u001b[0m\u001b[1;33m/\u001b[0m\u001b[0mz2\u001b[0m\u001b[1;33m)\u001b[0m\u001b[1;33m)\u001b[0m\u001b[1;33m\u001b[0m\u001b[1;33m\u001b[0m\u001b[0m\n\u001b[1;32m----> 7\u001b[1;33m \u001b[0mprint\u001b[0m\u001b[1;33m(\u001b[0m\u001b[1;34m\"Floor division is : \"\u001b[0m\u001b[1;33m,\u001b[0m\u001b[1;33m(\u001b[0m\u001b[0mz1\u001b[0m\u001b[1;33m//\u001b[0m\u001b[0mz2\u001b[0m\u001b[1;33m)\u001b[0m\u001b[1;33m)\u001b[0m\u001b[1;33m\u001b[0m\u001b[1;33m\u001b[0m\u001b[0m\n\u001b[0m\u001b[0;32m      8\u001b[0m \u001b[0mprint\u001b[0m\u001b[1;33m(\u001b[0m\u001b[1;34m\"Modulo is : \"\u001b[0m\u001b[1;33m,\u001b[0m\u001b[1;33m(\u001b[0m\u001b[0mz1\u001b[0m\u001b[1;33m%\u001b[0m\u001b[0mz2\u001b[0m\u001b[1;33m)\u001b[0m\u001b[1;33m)\u001b[0m\u001b[1;33m\u001b[0m\u001b[1;33m\u001b[0m\u001b[0m\n\u001b[0;32m      9\u001b[0m \u001b[1;33m\u001b[0m\u001b[0m\n",
      "\u001b[1;31mTypeError\u001b[0m: can't take floor of complex number."
     ]
    }
   ],
   "source": [
    "z1 = complex(2, 3) \n",
    "z2 = complex(1, 2) \n",
    "print( \"Addtion is : \", (z1+z2)) \n",
    "print(\"Subtraction is : \",(z1-z2))\n",
    "print(\"Multipilication is : \",(z1*z2))\n",
    "print(\"Division is : \",(z1/z2))\n",
    "print(\"Floor division is : \",(z1//z2))\n",
    "print(\"Modulo is : \",(z1%z2))\n",
    "\n",
    "#Floor division and Modulo operations cannot be done for complex numbers"
   ]
  },
  {
   "cell_type": "markdown",
   "metadata": {},
   "source": [
    "Range() function is used to return a sequence of numbers. \n",
    "Syntax: Range(start number, stop number, step number).\n",
    "Here start number and step number are optional, but, stop number is mandatory. All of them accepts integer only.\n",
    "If start number is not specified, the range starts from 0 by default.\n",
    "If step number is not specified, the sequence increments by 1 by default and the sequence stops with before mentioned stop number."
   ]
  },
  {
   "cell_type": "code",
   "execution_count": 3,
   "metadata": {},
   "outputs": [
    {
     "name": "stdout",
     "output_type": "stream",
     "text": [
      "3\n",
      "5\n",
      "7\n",
      "9\n",
      "11\n",
      "13\n",
      "15\n",
      "17\n",
      "19\n"
     ]
    }
   ],
   "source": [
    "#Program:\n",
    "x = range(3, 20, 2)\n",
    "\n",
    "for n in x:\n",
    "  print(n)"
   ]
  },
  {
   "cell_type": "code",
   "execution_count": 3,
   "metadata": {},
   "outputs": [
    {
     "name": "stdout",
     "output_type": "stream",
     "text": [
      "Enter First Number: 30\n",
      "Enter Second Number: 10\n",
      "3.0\n"
     ]
    }
   ],
   "source": [
    "num1 = int(input(\"Enter First Number: \"))\n",
    "num2 = int(input(\"Enter Second Number: \"))\n",
    "\n",
    "\n",
    "\n",
    "result = num1-num2\n",
    "if result>25:\n",
    "    result1 = num1 * num2\n",
    "    print(result1)\n",
    "\n",
    "else:\n",
    "    result2 = num1 / num2\n",
    "    print(result2)"
   ]
  },
  {
   "cell_type": "code",
   "execution_count": 4,
   "metadata": {},
   "outputs": [
    {
     "name": "stdout",
     "output_type": "stream",
     "text": [
      "square of that number minus 2\n"
     ]
    }
   ],
   "source": [
    "def findNoIsDivisibleOrNot(n, l =[]): \n",
    "  \n",
    "    # Checking if a number is divided \n",
    "    # by every element or not \n",
    "    for i in range(0, len(l)): \n",
    "        if l[i]% n != 0: \n",
    "            return 0\n",
    "    return 1\n",
    "  \n",
    "# Driver code \n",
    "l = [14, 12, 4, 18, 6, 20, 22, 28, 34, 60] \n",
    "n = 2\n",
    "if findNoIsDivisibleOrNot(n, l) == 1: \n",
    "    print(\"square of that number minus 2\")\n"
   ]
  },
  {
   "cell_type": "code",
   "execution_count": 8,
   "metadata": {},
   "outputs": [
    {
     "name": "stdout",
     "output_type": "stream",
     "text": [
      "The list : [1, 7, 5, 6, 3, 8, 10, 12, 15, 18]\n",
      "The numbers greater than 7 : 5\n"
     ]
    }
   ],
   "source": [
    "test_list = [1, 7, 5, 6, 3, 8,10,12,15,18] \n",
    "k = 7\n",
    "print (\"The list : \" + str(test_list)) \n",
    "  \n",
    "# to get numbers > k \n",
    "count = len([i for i in test_list if i > k])   \n",
    "print (\"The numbers greater than 7 : \" + str(count))\n",
    "\n"
   ]
  },
  {
   "cell_type": "code",
   "execution_count": null,
   "metadata": {},
   "outputs": [],
   "source": []
  }
 ],
 "metadata": {
  "kernelspec": {
   "display_name": "Python 3",
   "language": "python",
   "name": "python3"
  },
  "language_info": {
   "codemirror_mode": {
    "name": "ipython",
    "version": 3
   },
   "file_extension": ".py",
   "mimetype": "text/x-python",
   "name": "python",
   "nbconvert_exporter": "python",
   "pygments_lexer": "ipython3",
   "version": "3.7.6"
  }
 },
 "nbformat": 4,
 "nbformat_minor": 4
}
